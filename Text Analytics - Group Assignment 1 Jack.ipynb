{
 "cells": [
  {
   "cell_type": "markdown",
   "metadata": {},
   "source": [
    "# Text Analytics Group Assignment 1\n",
    "\n",
    "Daxi Cheng, (fill your names here)"
   ]
  },
  {
   "cell_type": "markdown",
   "metadata": {},
   "source": [
    "---\n",
    "## Part A (basic text mining)\n",
    "---"
   ]
  },
  {
   "cell_type": "code",
   "execution_count": 1,
   "metadata": {},
   "outputs": [
    {
     "name": "stdout",
     "output_type": "stream",
     "text": [
      "Populating the interactive namespace from numpy and matplotlib\n"
     ]
    },
    {
     "name": "stderr",
     "output_type": "stream",
     "text": [
      "/Users/Jack/anaconda/lib/python2.7/site-packages/sklearn/cross_validation.py:44: DeprecationWarning: This module was deprecated in version 0.18 in favor of the model_selection module into which all the refactored classes and functions are moved. Also note that the interface of the new CV iterators are different from that of this module. This module will be removed in 0.20.\n",
      "  \"This module will be removed in 0.20.\", DeprecationWarning)\n"
     ]
    }
   ],
   "source": [
    "# Import statements for Part A\n",
    "import warnings\n",
    "warnings.filterwarnings('ignore')\n",
    "from pandas import Series, DataFrame\n",
    "import pandas as pd\n",
    "%pylab inline\n",
    "\n",
    "import nltk\n",
    "from nltk.corpus import wordnet\n",
    "from nltk import word_tokenize\n",
    "from sklearn.feature_extraction.text import CountVectorizer\n",
    "import scipy.stats as ss\n",
    "import matplotlib\n",
    "\n",
    "from nltk.stem import WordNetLemmatizer\n",
    "import re\n",
    "#nltk.download('wordnet')\n",
    "\n",
    "# Import statements for Part B\n",
    "from sklearn.cross_validation import train_test_split\n",
    "from sklearn.naive_bayes import MultinomialNB\n",
    "from sklearn.feature_extraction.text import TfidfVectorizer\n",
    "from sklearn import metrics\n",
    "from sklearn.metrics import classification_report\n",
    "\n",
    "import os\n",
    "import random\n",
    "from operator import itemgetter\n",
    "import csv\n",
    "\n"
   ]
  },
  {
   "cell_type": "markdown",
   "metadata": {},
   "source": [
    "### A1. What are the top 5 parts of speech in this corpus of job descriptions? How frequently do they appear?"
   ]
  },
  {
   "cell_type": "code",
   "execution_count": 270,
   "metadata": {
    "collapsed": true
   },
   "outputs": [],
   "source": [
    "# Read the file and take a subset\n",
    "data=pd.read_csv('Train_rev1.csv')\n",
    "random.seed(1)\n",
    "train_data=data.sample(10000)"
   ]
  },
  {
   "cell_type": "code",
   "execution_count": 284,
   "metadata": {
    "collapsed": true
   },
   "outputs": [],
   "source": [
    "from nltk.tokenize import sent_tokenize, word_tokenize\n",
    "from collections import Counter\n",
    "from nltk.tokenize import RegexpTokenizer\n",
    "tokenizer = RegexpTokenizer(r'\\w+')\n",
    "def token(s):\n",
    "    decode=s.decode('utf-8').strip()\n",
    "    token=tokenizer.tokenize(decode)\n",
    "    return token\n",
    "train_data['token']=train_data['FullDescription'].map(token)"
   ]
  },
  {
   "cell_type": "code",
   "execution_count": 285,
   "metadata": {
    "collapsed": true
   },
   "outputs": [],
   "source": [
    "def pos(s):\n",
    "    poslist=[]\n",
    "    pos=nltk.pos_tag(s)\n",
    "    for i in pos:\n",
    "        poslist.append(i[1])\n",
    "    return poslist\n",
    "train_data['pos']=train_data['token'].map(pos)"
   ]
  },
  {
   "cell_type": "code",
   "execution_count": 286,
   "metadata": {
    "collapsed": true,
    "scrolled": true
   },
   "outputs": [],
   "source": [
    "import itertools\n",
    "word_list = list(itertools.chain(*train_data['token'].tolist()))\n",
    "lower_list = []\n",
    "#switch all of them to a lower case and make a list\n",
    "for word in word_list:\n",
    "    lower_list.append(word.lower())\n",
    "pos_list = list(itertools.chain(*train_data['pos'].tolist()))"
   ]
  },
  {
   "cell_type": "code",
   "execution_count": 287,
   "metadata": {},
   "outputs": [
    {
     "data": {
      "text/plain": [
       "[('NN', 446721),\n",
       " ('NNP', 359129),\n",
       " ('IN', 259085),\n",
       " ('JJ', 208243),\n",
       " ('DT', 199867)]"
      ]
     },
     "execution_count": 287,
     "metadata": {},
     "output_type": "execute_result"
    }
   ],
   "source": [
    "word_count=Counter(word_list)\n",
    "pos_count=Counter(pos_list)\n",
    "pos_rank=sorted(pos_count.items(),key=lambda x:x[1],reverse=True)\n",
    "pos_rank[:5]"
   ]
  },
  {
   "cell_type": "markdown",
   "metadata": {},
   "source": [
    "### A2. Does this corpus support Zipf’s law? Plot the most common 100 words in the corpus against the theoretical prediction of the law. For this question, do not remove stopwords. Also do not perform stemming or lemmatization."
   ]
  },
  {
   "cell_type": "code",
   "execution_count": 288,
   "metadata": {
    "collapsed": true,
    "scrolled": true
   },
   "outputs": [],
   "source": [
    "# Get the top 100 most frequent words\n",
    "word_freq = Counter(lower_list)\n",
    "top_100=sorted(word_freq.items(),key=lambda x:x[1],reverse=True)[:100]\n"
   ]
  },
  {
   "cell_type": "code",
   "execution_count": 289,
   "metadata": {
    "collapsed": true
   },
   "outputs": [],
   "source": [
    "rank_freq=[]    \n",
    "for i in top_100:\n",
    "    rank_freq.append(i[1]) "
   ]
  },
  {
   "cell_type": "code",
   "execution_count": 290,
   "metadata": {},
   "outputs": [
    {
     "data": {
      "text/plain": [
       "<matplotlib.text.Text at 0x134e07490>"
      ]
     },
     "execution_count": 290,
     "metadata": {},
     "output_type": "execute_result"
    },
    {
     "data": {
      "image/png": "[encoded data removed]",
      "text/plain": [
       "<matplotlib.figure.Figure at 0x134e22cd0>"
      ]
     },
     "metadata": {},
     "output_type": "display_data"
    }
   ],
   "source": [
    "# Get values for expected frequency of top 100 words using Zipf's Law\n",
    "counter=1\n",
    "zipf=[]\n",
    "max_freq = top_100[0][1]\n",
    "while len(zipf) < 100:\n",
    "    zipf.append(max_freq*1.000/counter)\n",
    "    counter += 1\n",
    "\n",
    "# Plot actual frequencies and Zipf frequencies\n",
    "\n",
    "plt.plot(rank_freq, label = 'Word Frequency')\n",
    "plt.plot(zipf, label = 'Zipf Predicted Frequency') \n",
    "plt.xscale('log')\n",
    "plt.yscale('log')\n",
    "legend(loc='best')\n",
    "xlabel('Log(Rank)')\n",
    "ylabel('Log(Frequency)')"
   ]
  },
  {
   "cell_type": "markdown",
   "metadata": {},
   "source": [
    "### A3. If we remove stopwords and lemmatize the corpus, what are the 10 most common words? What is their frequency?"
   ]
  },
  {
   "cell_type": "code",
   "execution_count": 291,
   "metadata": {
    "collapsed": true
   },
   "outputs": [],
   "source": [
    "from nltk.corpus import stopwords\n",
    "nostop = [word for word in lower_list if word not in stopwords.words('english')]\n",
    "\n",
    "lmtzr = WordNetLemmatizer()\n",
    "nostoplmtzed = [lmtzr.lemmatize(word) for word in nostop]"
   ]
  },
  {
   "cell_type": "code",
   "execution_count": 292,
   "metadata": {},
   "outputs": [
    {
     "data": {
      "text/plain": [
       "experience    17662\n",
       "role          12561\n",
       "team          12083\n",
       "work          12073\n",
       "client        11722\n",
       "business      11074\n",
       "service       10119\n",
       "skill          9715\n",
       "working        9158\n",
       "within         8714\n",
       "dtype: int64"
      ]
     },
     "execution_count": 292,
     "metadata": {},
     "output_type": "execute_result"
    }
   ],
   "source": [
    "pd.Series(nostoplmtzed).value_counts()[:10]"
   ]
  }
 ],
 "metadata": {
  "anaconda-cloud": {},
  "kernelspec": {
   "display_name": "Python [default]",
   "language": "python",
   "name": "python2"
  },
  "language_info": {
   "codemirror_mode": {
    "name": "ipython",
    "version": 2
   },
   "file_extension": ".py",
   "mimetype": "text/x-python",
   "name": "python",
   "nbconvert_exporter": "python",
   "pygments_lexer": "ipython2",
   "version": "2.7.13"
  }
 },
 "nbformat": 4,
 "nbformat_minor": 1
}
