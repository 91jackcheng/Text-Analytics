{
 "cells": [
  {
   "cell_type": "code",
   "execution_count": 18,
   "metadata": {},
   "outputs": [
    {
     "name": "stdout",
     "output_type": "stream",
     "text": [
      "Populating the interactive namespace from numpy and matplotlib\n"
     ]
    }
   ],
   "source": [
    "from pandas import Series, DataFrame\n",
    "import pandas as pd\n",
    "%pylab inline\n",
    "from nltk import pos_tag, word_tokenize\n",
    "import re"
   ]
  },
  {
   "cell_type": "code",
   "execution_count": 74,
   "metadata": {},
   "outputs": [
    {
     "data": {
      "text/html": [
       "<div>\n",
       "<style>\n",
       "    .dataframe thead tr:only-child th {\n",
       "        text-align: right;\n",
       "    }\n",
       "\n",
       "    .dataframe thead th {\n",
       "        text-align: left;\n",
       "    }\n",
       "\n",
       "    .dataframe tbody tr th {\n",
       "        vertical-align: top;\n",
       "    }\n",
       "</style>\n",
       "<table border=\"1\" class=\"dataframe\">\n",
       "  <thead>\n",
       "    <tr style=\"text-align: right;\">\n",
       "      <th></th>\n",
       "      <th>date</th>\n",
       "      <th>message</th>\n",
       "      <th>name</th>\n",
       "    </tr>\n",
       "  </thead>\n",
       "  <tbody>\n",
       "    <tr>\n",
       "      <th>0</th>\n",
       "      <td>April 12, 2007  2:52AM</td>\n",
       "      <td>Hi Pat:You forgot the Chrysler Sebring</td>\n",
       "      <td>motownusa</td>\n",
       "    </tr>\n",
       "    <tr>\n",
       "      <th>1</th>\n",
       "      <td>April 12, 2007  3:33AM</td>\n",
       "      <td>I'm sure some folks would appreciate having th...</td>\n",
       "      <td>exshoman</td>\n",
       "    </tr>\n",
       "    <tr>\n",
       "      <th>2</th>\n",
       "      <td>April 12, 2007  2:51PM</td>\n",
       "      <td>You can try to revive this topic but without b...</td>\n",
       "      <td>targettuning</td>\n",
       "    </tr>\n",
       "    <tr>\n",
       "      <th>3</th>\n",
       "      <td>April 12, 2007  4:43PM</td>\n",
       "      <td>Model vs. model is exactly what we're here for...</td>\n",
       "      <td>pat</td>\n",
       "    </tr>\n",
       "    <tr>\n",
       "      <th>4</th>\n",
       "      <td>April 13, 2007  7:49PM</td>\n",
       "      <td>The Altima is my favorite of the bunch.  It is...</td>\n",
       "      <td>perna</td>\n",
       "    </tr>\n",
       "  </tbody>\n",
       "</table>\n",
       "</div>"
      ],
      "text/plain": [
       "                     date                                            message  \\\n",
       "0  April 12, 2007  2:52AM             Hi Pat:You forgot the Chrysler Sebring   \n",
       "1  April 12, 2007  3:33AM  I'm sure some folks would appreciate having th...   \n",
       "2  April 12, 2007  2:51PM  You can try to revive this topic but without b...   \n",
       "3  April 12, 2007  4:43PM  Model vs. model is exactly what we're here for...   \n",
       "4  April 13, 2007  7:49PM  The Altima is my favorite of the bunch.  It is...   \n",
       "\n",
       "           name  \n",
       "0     motownusa  \n",
       "1      exshoman  \n",
       "2  targettuning  \n",
       "3           pat  \n",
       "4         perna  "
      ]
     },
     "execution_count": 74,
     "metadata": {},
     "output_type": "execute_result"
    }
   ],
   "source": [
    "df = pd.read_csv('data.csv', index_col=0)\n",
    "df.head()"
   ]
  },
  {
   "cell_type": "code",
   "execution_count": 182,
   "metadata": {},
   "outputs": [
    {
     "data": {
      "text/html": [
       "<div>\n",
       "<style>\n",
       "    .dataframe thead tr:only-child th {\n",
       "        text-align: right;\n",
       "    }\n",
       "\n",
       "    .dataframe thead th {\n",
       "        text-align: left;\n",
       "    }\n",
       "\n",
       "    .dataframe tbody tr th {\n",
       "        vertical-align: top;\n",
       "    }\n",
       "</style>\n",
       "<table border=\"1\" class=\"dataframe\">\n",
       "  <thead>\n",
       "    <tr style=\"text-align: right;\">\n",
       "      <th></th>\n",
       "      <th>Replace</th>\n",
       "      <th>Search</th>\n",
       "    </tr>\n",
       "  </thead>\n",
       "  <tbody>\n",
       "    <tr>\n",
       "      <th>0</th>\n",
       "      <td>acura</td>\n",
       "      <td>integra</td>\n",
       "    </tr>\n",
       "    <tr>\n",
       "      <th>1</th>\n",
       "      <td>acura</td>\n",
       "      <td>legend</td>\n",
       "    </tr>\n",
       "    <tr>\n",
       "      <th>2</th>\n",
       "      <td>acura</td>\n",
       "      <td>vigor</td>\n",
       "    </tr>\n",
       "    <tr>\n",
       "      <th>3</th>\n",
       "      <td>acura</td>\n",
       "      <td>rlx</td>\n",
       "    </tr>\n",
       "    <tr>\n",
       "      <th>4</th>\n",
       "      <td>acura</td>\n",
       "      <td>ilx</td>\n",
       "    </tr>\n",
       "  </tbody>\n",
       "</table>\n",
       "</div>"
      ],
      "text/plain": [
       "  Replace   Search\n",
       "0   acura  integra\n",
       "1   acura   legend\n",
       "2   acura    vigor\n",
       "3   acura      rlx\n",
       "4   acura      ilx"
      ]
     },
     "execution_count": 182,
     "metadata": {},
     "output_type": "execute_result"
    }
   ],
   "source": [
    "model_df = pd.read_csv('Cars make model list.csv')\n",
    "model_df['Replace'] = model_df['Replace'].str.lower()\n",
    "model_df['Search'] = model_df['Search'].str.lower()\n",
    "model_dict = model_df.set_index('Search')['Replace'].to_dict()\n",
    "model_df.head()"
   ]
  },
  {
   "cell_type": "code",
   "execution_count": 183,
   "metadata": {
    "collapsed": true
   },
   "outputs": [],
   "source": [
    "from nltk.corpus import stopwords\n",
    "StopWordslist = stopwords.words(\"english\")"
   ]
  },
  {
   "cell_type": "code",
   "execution_count": 184,
   "metadata": {},
   "outputs": [],
   "source": [
    "\n",
    "def string_process(s):\n",
    "    s=str(s)\n",
    "    lower = s.lower()\n",
    "    for key, value in model_dict.items():\n",
    "        lower= lower.replace(key, value)\n",
    "    words = lower.split()\n",
    "    refined = []\n",
    "    for i in words:\n",
    "        if i not in StopWordslist:\n",
    "            refined.append(re.sub(\"[^\\w]+\", \"\", i))\n",
    "    sentence = ' '.join([word for word in refined])\n",
    "    return(sentence)"
   ]
  },
  {
   "cell_type": "code",
   "execution_count": 185,
   "metadata": {},
   "outputs": [
    {
     "name": "stderr",
     "output_type": "stream",
     "text": [
      "/Users/Jack/anaconda/lib/python2.7/site-packages/ipykernel/__main__.py:10: UnicodeWarning: Unicode equal comparison failed to convert both arguments to Unicode - interpreting them as being unequal\n"
     ]
    }
   ],
   "source": [
    "df['text']=df['message'].map(string_process)"
   ]
  },
  {
   "cell_type": "code",
   "execution_count": 190,
   "metadata": {},
   "outputs": [],
   "source": [
    "model_set=set(model_dict.values())-{'car','seat','sedan','problem'}\n",
    "count_df=DataFrame(df['text'])\n",
    "for i in model_set:\n",
    "    count_df[i]=0"
   ]
  },
  {
   "cell_type": "code",
   "execution_count": 191,
   "metadata": {},
   "outputs": [
    {
     "name": "stdout",
     "output_type": "stream",
     "text": [
      "Task  0.0 % Finished\n",
      "Task  10.0 % Finished\n",
      "Task  20.0 % Finished\n",
      "Task  30.0 % Finished\n",
      "Task  40.0 % Finished\n",
      "Task  50.0 % Finished\n",
      "Task  60.0 % Finished\n",
      "Task  70.0 % Finished\n",
      "Task  80.0 % Finished\n",
      "Task  90.0 % Finished\n",
      "Task  100.0 % Finished\n",
      "Total Finished\n"
     ]
    }
   ],
   "source": [
    "def count_brand():\n",
    "    for num in range(len(count_df['text'])):\n",
    "        for i in model_set:\n",
    "            if i in count_df['text'][num]:\n",
    "                count_df.loc[num,i]=1\n",
    "        if num%603==0:\n",
    "            print 'Task ',num/60.3,'% Finished'\n",
    "    print 'Total Finished'\n",
    "count_brand()"
   ]
  },
  {
   "cell_type": "code",
   "execution_count": 192,
   "metadata": {
    "collapsed": true
   },
   "outputs": [],
   "source": [
    "count_df.drop('text',1, inplace=True)\n",
    "count_df.loc['Row_sum'] = count_df.apply(lambda x: x.sum())\n",
    "count_series=count_df.T['Row_sum']"
   ]
  },
  {
   "cell_type": "code",
   "execution_count": 193,
   "metadata": {},
   "outputs": [
    {
     "data": {
      "text/plain": [
       "honda        2600\n",
       "ford         1624\n",
       "toyota       1189\n",
       "hyundai       788\n",
       "mazda         745\n",
       "nissan        721\n",
       "chevrolet     375\n",
       "chrysler      334\n",
       "saturn        334\n",
       "dodge         290\n",
       "Name: Row_sum, dtype: int64"
      ]
     },
     "execution_count": 193,
     "metadata": {},
     "output_type": "execute_result"
    }
   ],
   "source": [
    "count_series.sort_values(ascending=False)[:10]"
   ]
  },
  {
   "cell_type": "code",
   "execution_count": null,
   "metadata": {
    "collapsed": true
   },
   "outputs": [],
   "source": []
  }
 ],
 "metadata": {
  "anaconda-cloud": {},
  "kernelspec": {
   "display_name": "Python [default]",
   "language": "python",
   "name": "python2"
  },
  "language_info": {
   "codemirror_mode": {
    "name": "ipython",
    "version": 2
   },
   "file_extension": ".py",
   "mimetype": "text/x-python",
   "name": "python",
   "nbconvert_exporter": "python",
   "pygments_lexer": "ipython2",
   "version": "2.7.13"
  }
 },
 "nbformat": 4,
 "nbformat_minor": 2
}
